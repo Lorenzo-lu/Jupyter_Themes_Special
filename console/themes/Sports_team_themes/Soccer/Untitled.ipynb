{
 "cells": [
  {
   "cell_type": "code",
   "execution_count": 1,
   "id": "concerned-preview",
   "metadata": {},
   "outputs": [],
   "source": [
    "%reset -f"
   ]
  },
  {
   "cell_type": "code",
   "execution_count": 2,
   "id": "ceramic-lemon",
   "metadata": {},
   "outputs": [],
   "source": [
    "file = open('module.css', 'r');\n",
    "css = file.read(); \n",
    "file.close()"
   ]
  },
  {
   "cell_type": "code",
   "execution_count": 3,
   "id": "pleased-installation",
   "metadata": {},
   "outputs": [],
   "source": [
    "dic = {'color1':'rgb(220, 5, 45)', 'color2':'rgb(0, 102, 178)', 'color3': 'white', \n",
    "       'color4':'white'};"
   ]
  },
  {
   "cell_type": "code",
   "execution_count": 4,
   "id": "desirable-scope",
   "metadata": {},
   "outputs": [],
   "source": [
    "for this_key in dic:\n",
    "    css = dic[this_key].join(css.split(this_key));"
   ]
  },
  {
   "cell_type": "code",
   "execution_count": 6,
   "id": "hispanic-divorce",
   "metadata": {
    "scrolled": true
   },
   "outputs": [],
   "source": [
    "file2 = open('custom.css', 'w+');\n",
    "file2.write(css);\n",
    "file2.close()"
   ]
  },
  {
   "cell_type": "code",
   "execution_count": null,
   "id": "british-missouri",
   "metadata": {},
   "outputs": [],
   "source": []
  }
 ],
 "metadata": {
  "kernelspec": {
   "display_name": "Python 3",
   "language": "python",
   "name": "python3"
  },
  "language_info": {
   "codemirror_mode": {
    "name": "ipython",
    "version": 3
   },
   "file_extension": ".py",
   "mimetype": "text/x-python",
   "name": "python",
   "nbconvert_exporter": "python",
   "pygments_lexer": "ipython3",
   "version": "3.9.1"
  },
  "toc": {
   "base_numbering": 1,
   "nav_menu": {},
   "number_sections": true,
   "sideBar": true,
   "skip_h1_title": false,
   "title_cell": "Table of Contents",
   "title_sidebar": "Contents",
   "toc_cell": false,
   "toc_position": {},
   "toc_section_display": true,
   "toc_window_display": false
  },
  "varInspector": {
   "cols": {
    "lenName": 16,
    "lenType": 16,
    "lenVar": 40
   },
   "kernels_config": {
    "python": {
     "delete_cmd_postfix": "",
     "delete_cmd_prefix": "del ",
     "library": "var_list.py",
     "varRefreshCmd": "print(var_dic_list())"
    },
    "r": {
     "delete_cmd_postfix": ") ",
     "delete_cmd_prefix": "rm(",
     "library": "var_list.r",
     "varRefreshCmd": "cat(var_dic_list()) "
    }
   },
   "types_to_exclude": [
    "module",
    "function",
    "builtin_function_or_method",
    "instance",
    "_Feature"
   ],
   "window_display": true
  }
 },
 "nbformat": 4,
 "nbformat_minor": 5
}
