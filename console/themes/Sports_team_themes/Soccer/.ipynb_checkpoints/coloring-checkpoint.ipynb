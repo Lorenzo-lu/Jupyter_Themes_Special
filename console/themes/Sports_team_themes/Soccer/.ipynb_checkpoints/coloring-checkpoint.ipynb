{
 "cells": [
  {
   "cell_type": "code",
   "execution_count": 13,
   "id": "concerned-preview",
   "metadata": {},
   "outputs": [],
   "source": [
    "%reset -f"
   ]
  },
  {
   "cell_type": "code",
   "execution_count": null,
   "id": "ceramic-lemon",
   "metadata": {
    "scrolled": true
   },
   "outputs": [],
   "source": []
  },
  {
   "cell_type": "code",
   "execution_count": 14,
   "id": "pleased-installation",
   "metadata": {},
   "outputs": [],
   "source": [
    "dic = {};\n",
    "dic['AC Milan'] = {'color1': 'black', \n",
    "       'color2':'black', \n",
    "       'color3': 'rgb(251,9,11)', \n",
    "       'color4':'white'}; \n",
    "dic['Barcelona'] = {'color1':'rgb(168, 19, 62)', \n",
    "       'color2':'rgb(0, 77, 152)', \n",
    "       'color3': 'rgb(237, 187, 0)', \n",
    "       'color4':'rgb(255, 237, 2)'}; \n",
    "dic['Bayern Munchen'] = {'color1':'rgb(220,5,45)', \n",
    "       'color2':'rgb(0,102,178)', \n",
    "       'color3': 'white', \n",
    "       'color4':'white'}; \n",
    "dic['Dortmund'] = {'color1':'rgb(253 225 0)', \n",
    "       'color2':'black', \n",
    "       'color3': 'black', \n",
    "       'color4':'white'}; \n",
    "dic['Real Madrid'] = {'color1':'rgb(0, 82, 159)', \n",
    "       'color2':'white', \n",
    "       'color3': 'rgb(254, 190, 16)', \n",
    "       'color4':'rgb(238, 50, 78)'}; \n",
    "dic['Inter Milan'] = {'color1':'rgb(18, 102, 171)', \n",
    "       'color2':'rgb(163, 146, 97)', \n",
    "       'color3': 'rgb(4, 7, 7)', \n",
    "       'color4':'white'}; \n",
    "dic['Chelsea'] = {'color1':'rgb(3, 70, 148)', \n",
    "       'color2':'rgb(219, 161, 17)', \n",
    "       #'color3': 'rgb(209, 211, 212)', \n",
    "        'color3':'white',\n",
    "       #'color4':'rgb(237, 28, 36)',\n",
    "        'color4': 'rgb(3, 70, 148)'  \n",
    "        }; \n",
    "dic['Manchester United'] = {'color1':'rgb(218, 41, 28)', \n",
    "       'color2':'rgb(251, 225, 34)', \n",
    "       'color3': 'black', \n",
    "       'color4':'rgb(218, 41, 28)'}; "
   ]
  },
  {
   "cell_type": "code",
   "execution_count": 15,
   "id": "desirable-scope",
   "metadata": {},
   "outputs": [],
   "source": [
    "for name in dic:\n",
    "    file = open('module.css', 'r', encoding='utf-8');\n",
    "    css = file.read(); \n",
    "    file.close()\n",
    "    \n",
    "    color = dic[name];\n",
    "    for this_key in color:\n",
    "        css = color[this_key].join(css.split(this_key));\n",
    "    file2 = open('./%s/custom.css'%name, 'w+', encoding='utf-8');\n",
    "    file2.write(css);\n",
    "    file2.close()"
   ]
  },
  {
   "cell_type": "code",
   "execution_count": null,
   "id": "hispanic-divorce",
   "metadata": {
    "scrolled": true
   },
   "outputs": [],
   "source": []
  },
  {
   "cell_type": "markdown",
   "id": "35298fda-8097-488f-8b11-2997e1d3d695",
   "metadata": {},
   "source": [
    " ## Test\n",
    " \n",
    " [Link](https://github.com/Lorenzo-lu/Jupyter_Themes_Special)"
   ]
  },
  {
   "cell_type": "code",
   "execution_count": null,
   "id": "3a7d600e-a2ee-4dd4-865a-467cdcc327c6",
   "metadata": {},
   "outputs": [],
   "source": []
  }
 ],
 "metadata": {
  "kernelspec": {
   "display_name": "Python 3 (ipykernel)",
   "language": "python",
   "name": "python3"
  },
  "language_info": {
   "codemirror_mode": {
    "name": "ipython",
    "version": 3
   },
   "file_extension": ".py",
   "mimetype": "text/x-python",
   "name": "python",
   "nbconvert_exporter": "python",
   "pygments_lexer": "ipython3",
   "version": "3.7.3"
  },
  "toc": {
   "base_numbering": 1,
   "nav_menu": {},
   "number_sections": true,
   "sideBar": true,
   "skip_h1_title": false,
   "title_cell": "Table of Contents",
   "title_sidebar": "Contents",
   "toc_cell": false,
   "toc_position": {},
   "toc_section_display": true,
   "toc_window_display": false
  },
  "varInspector": {
   "cols": {
    "lenName": 16,
    "lenType": 16,
    "lenVar": 40
   },
   "kernels_config": {
    "python": {
     "delete_cmd_postfix": "",
     "delete_cmd_prefix": "del ",
     "library": "var_list.py",
     "varRefreshCmd": "print(var_dic_list())"
    },
    "r": {
     "delete_cmd_postfix": ") ",
     "delete_cmd_prefix": "rm(",
     "library": "var_list.r",
     "varRefreshCmd": "cat(var_dic_list()) "
    }
   },
   "types_to_exclude": [
    "module",
    "function",
    "builtin_function_or_method",
    "instance",
    "_Feature"
   ],
   "window_display": false
  }
 },
 "nbformat": 4,
 "nbformat_minor": 5
}
