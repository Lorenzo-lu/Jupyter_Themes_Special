{
 "cells": [
  {
   "cell_type": "code",
   "execution_count": 146,
   "id": "concerned-preview",
   "metadata": {},
   "outputs": [],
   "source": [
    "%reset -f"
   ]
  },
  {
   "cell_type": "code",
   "execution_count": 147,
   "id": "ceramic-lemon",
   "metadata": {},
   "outputs": [],
   "source": [
    "file = open('module.css', 'r');\n",
    "css = file.read(); \n",
    "file.close()"
   ]
  },
  {
   "cell_type": "code",
   "execution_count": 148,
   "id": "pleased-installation",
   "metadata": {},
   "outputs": [],
   "source": [
    "dic = {};\n",
    "dic['AC Milan'] = {'color1':'rgb(251,9,11)', \n",
    "       'color2':'black', \n",
    "       'color3': 'black', \n",
    "       'color4':'white'}; \n",
    "dic['Barcelona'] = {'color1':'rgb(168, 19, 62)', \n",
    "       'color2':'rgb(0, 77, 152)', \n",
    "       'color3': 'rgb(237, 187, 0)', \n",
    "       'color4':'rgb(255, 237, 2)'}; \n",
    "dic['Bayern'] = {'color1':'rgb(220,5,45)', \n",
    "       'color2':'rgb(0,102,178)', \n",
    "       'color3': 'white', \n",
    "       'color4':'white'}; \n",
    "dic['Dortmund'] = {'color1':'rgb(253 225 0)', \n",
    "       'color2':'black', \n",
    "       'color3': 'black', \n",
    "       'color4':'white'}; \n",
    "dic['Real Madrid'] = {'color1':'rgb(0, 82, 159)', \n",
    "       'color2':'white', \n",
    "       'color3': 'rgb(254, 190, 16)', \n",
    "       'color4':'rgb(238, 50, 78)'}; \n",
    "dic['Inter Milan'] = {'color1':'rgb(18, 102, 171)', \n",
    "       'color2':'rgb(163, 146, 97)', \n",
    "       'color3': 'rgb(4, 7, 7)', \n",
    "       'color4':'white'}; \n",
    "dic['Chelsea'] = {'color1':'rgb(3, 70, 148)', \n",
    "       'color2':'rgb(219, 161, 17)', \n",
    "       #'color3': 'rgb(209, 211, 212)', \n",
    "        'color3':'rgb(219, 161, 17)',\n",
    "       #'color4':'rgb(237, 28, 36)',\n",
    "        'color4': 'rgb(3, 70, 148)'  }; \n",
    "dic['Man U'] = {'color1':'rgb(218, 41, 28)', \n",
    "       'color2':'rgb(251, 225, 34)', \n",
    "       'color3': 'rgb(251, 225, 34)', \n",
    "       'color4':'rgb(218, 41, 28)'}; "
   ]
  },
  {
   "cell_type": "code",
   "execution_count": 149,
   "id": "desirable-scope",
   "metadata": {},
   "outputs": [],
   "source": [
    "dic = dic['Dortmund'];\n",
    "for this_key in dic:\n",
    "    css = dic[this_key].join(css.split(this_key));"
   ]
  },
  {
   "cell_type": "code",
   "execution_count": 150,
   "id": "hispanic-divorce",
   "metadata": {
    "scrolled": true
   },
   "outputs": [],
   "source": [
    "file2 = open('custom.css', 'w+');\n",
    "file2.write(css);\n",
    "file2.close()"
   ]
  },
  {
   "cell_type": "code",
   "execution_count": null,
   "id": "british-missouri",
   "metadata": {},
   "outputs": [],
   "source": [
    " "
   ]
  }
 ],
 "metadata": {
  "kernelspec": {
   "display_name": "Python 3",
   "language": "python",
   "name": "python3"
  },
  "language_info": {
   "codemirror_mode": {
    "name": "ipython",
    "version": 3
   },
   "file_extension": ".py",
   "mimetype": "text/x-python",
   "name": "python",
   "nbconvert_exporter": "python",
   "pygments_lexer": "ipython3",
   "version": "3.9.1"
  },
  "toc": {
   "base_numbering": 1,
   "nav_menu": {},
   "number_sections": true,
   "sideBar": true,
   "skip_h1_title": false,
   "title_cell": "Table of Contents",
   "title_sidebar": "Contents",
   "toc_cell": false,
   "toc_position": {},
   "toc_section_display": true,
   "toc_window_display": false
  },
  "varInspector": {
   "cols": {
    "lenName": 16,
    "lenType": 16,
    "lenVar": 40
   },
   "kernels_config": {
    "python": {
     "delete_cmd_postfix": "",
     "delete_cmd_prefix": "del ",
     "library": "var_list.py",
     "varRefreshCmd": "print(var_dic_list())"
    },
    "r": {
     "delete_cmd_postfix": ") ",
     "delete_cmd_prefix": "rm(",
     "library": "var_list.r",
     "varRefreshCmd": "cat(var_dic_list()) "
    }
   },
   "types_to_exclude": [
    "module",
    "function",
    "builtin_function_or_method",
    "instance",
    "_Feature"
   ],
   "window_display": false
  }
 },
 "nbformat": 4,
 "nbformat_minor": 5
}
